{
  "cells": [
    {
      "cell_type": "markdown",
      "metadata": {
        "id": "hX4n9TsbGw-f"
      },
      "source": [
        "##### Copyright 2018 The TensorFlow Authors."
      ]
    },
    {
      "cell_type": "code",
      "execution_count": null,
      "metadata": {
        "cellView": "form",
        "id": "0nbI5DtDGw-i"
      },
      "outputs": [],
      "source": [
        "#@title Licensed under the Apache License, Version 2.0 (the \"License\");\n",
        "# you may not use this file except in compliance with the License.\n",
        "# You may obtain a copy of the License at\n",
        "#\n",
        "# https://www.apache.org/licenses/LICENSE-2.0\n",
        "#\n",
        "# Unless required by applicable law or agreed to in writing, software\n",
        "# distributed under the License is distributed on an \"AS IS\" BASIS,\n",
        "# WITHOUT WARRANTIES OR CONDITIONS OF ANY KIND, either express or implied.\n",
        "# See the License for the specific language governing permissions and\n",
        "# limitations under the License."
      ]
    },
    {
      "cell_type": "markdown",
      "metadata": {
        "id": "9TnJztDZGw-n"
      },
      "source": [
        "# Text classification with an RNN"
      ]
    },
    {
      "cell_type": "markdown",
      "metadata": {
        "id": "AfN3bMR5Gw-o"
      },
      "source": [
        "<table class=\"tfo-notebook-buttons\" align=\"left\">\n",
        "  <td>\n",
        "    <a target=\"_blank\" href=\"https://www.tensorflow.org/text/tutorials/text_classification_rnn\"><img src=\"https://www.tensorflow.org/images/tf_logo_32px.png\" />View on TensorFlow.org</a>\n",
        "  </td>\n",
        "  <td>\n",
        "    <a target=\"_blank\" href=\"https://colab.research.google.com/github/tensorflow/text/blob/master/docs/tutorials/text_classification_rnn.ipynb\"><img src=\"https://www.tensorflow.org/images/colab_logo_32px.png\" />Run in Google Colab</a>\n",
        "  </td>\n",
        "  <td>\n",
        "    <a target=\"_blank\" href=\"https://github.com/tensorflow/text/blob/master/docs/tutorials/text_classification_rnn.ipynb\"><img src=\"https://www.tensorflow.org/images/GitHub-Mark-32px.png\" />View source on GitHub</a>\n",
        "  </td>\n",
        "  <td>\n",
        "    <a href=\"https://storage.googleapis.com/tensorflow_docs/text/docs/tutorials/text_classification_rnn.ipynb\"><img src=\"https://www.tensorflow.org/images/download_logo_32px.png\" />Download notebook</a>\n",
        "  </td>\n",
        "</table>"
      ]
    },
    {
      "cell_type": "markdown",
      "metadata": {
        "id": "lUWearf0Gw-p"
      },
      "source": [
        "This text classification tutorial trains a [recurrent neural network](https://developers.google.com/machine-learning/glossary/#recurrent_neural_network) on the [IMDB large movie review dataset](http://ai.stanford.edu/~amaas/data/sentiment/) for sentiment analysis."
      ]
    },
    {
      "cell_type": "markdown",
      "metadata": {
        "id": "_2VQo4bajwUU"
      },
      "source": [
        "## Setup"
      ]
    },
    {
      "cell_type": "code",
      "execution_count": 4,
      "metadata": {
        "id": "z682XYsrjkY9"
      },
      "outputs": [
        {
          "name": "stderr",
          "output_type": "stream",
          "text": [
            "/home/coder/.local/lib/python3.9/site-packages/tqdm/auto.py:21: TqdmWarning: IProgress not found. Please update jupyter and ipywidgets. See https://ipywidgets.readthedocs.io/en/stable/user_install.html\n",
            "  from .autonotebook import tqdm as notebook_tqdm\n",
            "2023-03-15 10:05:16.065223: I tensorflow/core/platform/cpu_feature_guard.cc:193] This TensorFlow binary is optimized with oneAPI Deep Neural Network Library (oneDNN) to use the following CPU instructions in performance-critical operations:  AVX2 AVX512F FMA\n",
            "To enable them in other operations, rebuild TensorFlow with the appropriate compiler flags.\n"
          ]
        }
      ],
      "source": [
        "import numpy as np\n",
        "\n",
        "import tensorflow_datasets as tfds\n",
        "import tensorflow as tf\n",
        "\n",
        "tfds.disable_progress_bar()"
      ]
    },
    {
      "cell_type": "markdown",
      "metadata": {
        "id": "1rXHa-w9JZhb"
      },
      "source": [
        "Import `matplotlib` and create a helper function to plot graphs:"
      ]
    },
    {
      "cell_type": "code",
      "execution_count": 24,
      "metadata": {
        "id": "Mp1Z7P9pYRSK"
      },
      "outputs": [],
      "source": [
        "import matplotlib.pyplot as plt\n",
        "\n",
        "\n",
        "def plot_graphs(history, metric):\n",
        "  plt.plot(history.history[metric])\n",
        "  plt.plot(history.history['val_'+metric], '')\n",
        "  plt.xlabel(\"Epochs\")\n",
        "  plt.ylabel(metric)\n",
        "  plt.legend([metric, 'val_'+metric])\n",
        "  plt.title(metric)"
      ]
    },
    {
      "cell_type": "markdown",
      "metadata": {
        "id": "pRmMubr0jrE2"
      },
      "source": [
        "## Setup input pipeline\n",
        "\n",
        "\n",
        "The IMDB large movie review dataset is a *binary classification* dataset—all the reviews have either a *positive* or *negative* sentiment.\n",
        "\n",
        "Download the dataset using [TFDS](https://www.tensorflow.org/datasets). See the [loading text tutorial](https://www.tensorflow.org/tutorials/load_data/text) for details on how to load this sort of data manually.\n"
      ]
    },
    {
      "cell_type": "code",
      "execution_count": 6,
      "metadata": {
        "id": "SHRwRoP2nVHX"
      },
      "outputs": [
        {
          "name": "stdout",
          "output_type": "stream",
          "text": [
            "\u001b[1mDownloading and preparing dataset Unknown size (download: Unknown size, generated: Unknown size, total: Unknown size) to /home/coder/tensorflow_datasets/imdb_reviews/plain_text/1.0.0...\u001b[0m\n"
          ]
        },
        {
          "name": "stderr",
          "output_type": "stream",
          "text": [
            "2023-03-15 10:05:28.833536: W tensorflow/core/platform/cloud/google_auth_provider.cc:184] All attempts to get a Google authentication bearer token failed, returning an empty token. Retrieving token from files failed with \"NOT_FOUND: Could not locate the credentials file.\". Retrieving token from GCE failed with \"FAILED_PRECONDITION: Error executing an HTTP request: libcurl code 6 meaning 'Couldn't resolve host name', error details: Could not resolve host: metadata\".\n"
          ]
        },
        {
          "name": "stdout",
          "output_type": "stream",
          "text": [
            "\u001b[1mDataset imdb_reviews downloaded and prepared to /home/coder/tensorflow_datasets/imdb_reviews/plain_text/1.0.0. Subsequent calls will reuse this data.\u001b[0m\n"
          ]
        },
        {
          "name": "stderr",
          "output_type": "stream",
          "text": [
            "2023-03-15 10:06:15.651911: I tensorflow/core/platform/cpu_feature_guard.cc:193] This TensorFlow binary is optimized with oneAPI Deep Neural Network Library (oneDNN) to use the following CPU instructions in performance-critical operations:  AVX2 AVX512F FMA\n",
            "To enable them in other operations, rebuild TensorFlow with the appropriate compiler flags.\n"
          ]
        },
        {
          "data": {
            "text/plain": [
              "(TensorSpec(shape=(), dtype=tf.string, name=None),\n",
              " TensorSpec(shape=(), dtype=tf.int64, name=None))"
            ]
          },
          "execution_count": 6,
          "metadata": {},
          "output_type": "execute_result"
        }
      ],
      "source": [
        "dataset, info = tfds.load('imdb_reviews', with_info=True,\n",
        "                          as_supervised=True)\n",
        "train_dataset, test_dataset = dataset['train'], dataset['test']\n",
        "\n",
        "train_dataset.element_spec"
      ]
    },
    {
      "cell_type": "markdown",
      "metadata": {
        "id": "nWA4c2ir7g6p"
      },
      "source": [
        "Initially this returns a dataset of (text, label pairs):"
      ]
    },
    {
      "cell_type": "code",
      "execution_count": 7,
      "metadata": {
        "id": "vd4_BGKyurao"
      },
      "outputs": [
        {
          "name": "stdout",
          "output_type": "stream",
          "text": [
            "text:  b\"This was an absolutely terrible movie. Don't be lured in by Christopher Walken or Michael Ironside. Both are great actors, but this must simply be their worst role in history. Even their great acting could not redeem this movie's ridiculous storyline. This movie is an early nineties US propaganda piece. The most pathetic scenes were those when the Columbian rebels were making their cases for revolutions. Maria Conchita Alonso appeared phony, and her pseudo-love affair with Walken was nothing but a pathetic emotional plug in a movie that was devoid of any real meaning. I am disappointed that there are movies like this, ruining actor's like Christopher Walken's good name. I could barely sit through it.\"\n",
            "label:  0\n"
          ]
        },
        {
          "name": "stderr",
          "output_type": "stream",
          "text": [
            "2023-03-15 10:06:18.605194: W tensorflow/core/kernels/data/cache_dataset_ops.cc:856] The calling iterator did not fully read the dataset being cached. In order to avoid unexpected truncation of the dataset, the partially cached contents of the dataset  will be discarded. This can happen if you have an input pipeline similar to `dataset.cache().take(k).repeat()`. You should use `dataset.take(k).cache().repeat()` instead.\n"
          ]
        }
      ],
      "source": [
        "for example, label in train_dataset.take(1):\n",
        "  print('text: ', example.numpy())\n",
        "  print('label: ', label.numpy())"
      ]
    },
    {
      "cell_type": "markdown",
      "metadata": {
        "id": "z2qVJzcEluH_"
      },
      "source": [
        "Next shuffle the data for training and create batches of these `(text, label)` pairs:"
      ]
    },
    {
      "cell_type": "code",
      "execution_count": 8,
      "metadata": {
        "id": "dDsCaZCDYZgm"
      },
      "outputs": [],
      "source": [
        "BUFFER_SIZE = 10000\n",
        "BATCH_SIZE = 64"
      ]
    },
    {
      "cell_type": "code",
      "execution_count": 9,
      "metadata": {
        "id": "VznrltNOnUc5"
      },
      "outputs": [],
      "source": [
        "train_dataset = train_dataset.shuffle(BUFFER_SIZE).batch(BATCH_SIZE).prefetch(tf.data.AUTOTUNE)\n",
        "test_dataset = test_dataset.batch(BATCH_SIZE).prefetch(tf.data.AUTOTUNE)"
      ]
    },
    {
      "cell_type": "code",
      "execution_count": 10,
      "metadata": {
        "id": "jqkvdcFv41wC"
      },
      "outputs": [
        {
          "name": "stdout",
          "output_type": "stream",
          "text": [
            "texts:  [b'This is not a profound movie; most of the plot aspects are pretty predictable and \"tried and true\" but it was well-acted and made some interesting points about what we might regret (our \"mistakes\" as the movie calls them) as we look back over our lives. I had not read the book, so didn\\'t know much other than it was the story of a dying woman who has strong memories from long ago that she hasn\\'t really shared with anyone. Thankfully they got a top-notch cast....Meryl<br /><br />Streep\\'s daughter, Mamie Gummer, plays the young Lila, and then Meryl shows up at the end of the film as the old Lila...in addition to an amazing resemblance (duh!) the younger actress did a great job (perhaps not quite up to her mom\\'s caliber, but who is?) All others in this film were fine, although I wish there had been more of Glen Close and thought the Buddy character was alittle too dramatic. <br /><br />This is more of a girls\\' movie than for the guys, but a good one to see with your mom, or your daughter, and maybe start some dialog going. How hard it is to really know a parent as a \"person\"!'\n",
            " b\"This excellent series, narrated by Laurence Olivier, brilliantly, it should be said, charts the beginning to the end of World War 2. The origins are not entirely examined fully from Germany's fall at the hands of the Versailles treaty which helped propel Hitler's demonic rise, but as one reviewer says, that must be hard to do, in a 26-part series with so much to cram in. <br /><br />Apart from the expected combat photography/action, there are plenty of personal, emotional and human tragedies that are told giving the viewer an amazing insight, especially if you're not necessarily a World War 2 buff/fan. Episodes showing 'testimonies' and what life was like on the home front of the main allies/adversary, Britain, Germany, Japan, Russia and the U.S.A. were quite eye-opening. Showing the extreme savagery of the war on the frontline and of course the sufferings of civilians, the death camps etc., were very well handled and exposed. I'd fully recommend this in any history class for the younger generation (Of which it could be said I am one at 47!).<br /><br />Certain things are quite strangely left out, like the advent of the new jet era beginning, with Frank Whittle's experimental Gloster jet and the Gloster Meteor's combat debut as well as that of the German Messerschmitt Me 262 - especially as the V-1 was seen making its debut and there was surprisingly smaller mention of the V2. This is probably a small oversight, not referring to the more sensational secret and fantastic weapons which WW2 brought forward from a more barren old science. But a great series that made its mark and has done so ever since when thankfully repeated. <br /><br />A series to own as a box set in history terms, on DVD for anyone especially who happens to be a military fan. Jeremy Isaacs and Thames TV should be well proud.\"\n",
            " b\"Having heard so many people raving about this film I thought I'd give it a go. Apart from being incredibly slow, which I don't mind as long as the wait is worth it, but it just isn't. As many others have said there are so many inconsistencies and so much of this film just doesn't ring true. The reaction of the 4 men switches from shock, horror on finding the body to complete indifference whilst they fish. Surely if they were the type of men that would go on happily fishing, then they would have just reported the body and said they had only discovered it after their fishing trip....why on earth tie the body to a tree, go fishing and then tell everyone you found the body 2 days previously? Its so hard to watch a film knowing that the behaviour of the main characters is so inconsistent. As for the rest of the townsfolk, well you'd think at least one of them might show some curiosity about who actually killed the woman! The body itself, naked except for the knickers....what scenario leads to that? If she was raped then why still the knickers? If she was raped with the clothes on, then why remove them afterwards bar the knickers? If she wasn't raped, then why take all her clothes off bar the knickers....leaving yourself with evidence to dispose of? I truly cant think of any realistic scenario that would lead to that other than killing someone to steal their clothes so you can fill up your jumble sale stall! Oh well its watchable but only just and only because, despite the poor script, the acting is strong.\"]\n",
            "\n",
            "labels:  [1 1 0]\n"
          ]
        },
        {
          "name": "stderr",
          "output_type": "stream",
          "text": [
            "2023-03-15 10:06:26.230217: W tensorflow/core/kernels/data/cache_dataset_ops.cc:856] The calling iterator did not fully read the dataset being cached. In order to avoid unexpected truncation of the dataset, the partially cached contents of the dataset  will be discarded. This can happen if you have an input pipeline similar to `dataset.cache().take(k).repeat()`. You should use `dataset.take(k).cache().repeat()` instead.\n"
          ]
        }
      ],
      "source": [
        "for example, label in train_dataset.take(1):\n",
        "  print('texts: ', example.numpy()[:3])\n",
        "  print()\n",
        "  print('labels: ', label.numpy()[:3])"
      ]
    },
    {
      "cell_type": "markdown",
      "metadata": {
        "id": "s5eWCo88voPY"
      },
      "source": [
        "## Create the text encoder"
      ]
    },
    {
      "cell_type": "markdown",
      "metadata": {
        "id": "TFevcItw15P_"
      },
      "source": [
        "The raw text loaded by `tfds` needs to be processed before it can be used in a model. The simplest way to process text for training is using the `TextVectorization` layer. This layer has many capabilities, but this tutorial sticks to the default behavior.\n",
        "\n",
        "Create the layer, and pass the dataset's text to the layer's `.adapt` method:"
      ]
    },
    {
      "cell_type": "code",
      "execution_count": 11,
      "metadata": {
        "id": "uC25Lu1Yvuqy"
      },
      "outputs": [
        {
          "name": "stdout",
          "output_type": "stream",
          "text": [
            "WARNING:tensorflow:From /home/coder/.local/lib/python3.9/site-packages/tensorflow/python/autograph/pyct/static_analysis/liveness.py:83: Analyzer.lamba_check (from tensorflow.python.autograph.pyct.static_analysis.liveness) is deprecated and will be removed after 2023-09-23.\n",
            "Instructions for updating:\n",
            "Lambda fuctions will be no more assumed to be used in the statement where they are used, or at least in the same block. https://github.com/tensorflow/tensorflow/issues/56089\n"
          ]
        },
        {
          "name": "stderr",
          "output_type": "stream",
          "text": [
            "WARNING:tensorflow:From /home/coder/.local/lib/python3.9/site-packages/tensorflow/python/autograph/pyct/static_analysis/liveness.py:83: Analyzer.lamba_check (from tensorflow.python.autograph.pyct.static_analysis.liveness) is deprecated and will be removed after 2023-09-23.\n",
            "Instructions for updating:\n",
            "Lambda fuctions will be no more assumed to be used in the statement where they are used, or at least in the same block. https://github.com/tensorflow/tensorflow/issues/56089\n"
          ]
        }
      ],
      "source": [
        "VOCAB_SIZE = 1000\n",
        "encoder = tf.keras.layers.TextVectorization(\n",
        "    max_tokens=VOCAB_SIZE)\n",
        "encoder.adapt(train_dataset.map(lambda text, label: text))"
      ]
    },
    {
      "cell_type": "markdown",
      "metadata": {
        "id": "IuQzVBbe3Ldu"
      },
      "source": [
        "The `.adapt` method sets the layer's vocabulary. Here are the first 20 tokens. After the padding and unknown tokens they're sorted by frequency: "
      ]
    },
    {
      "cell_type": "code",
      "execution_count": 12,
      "metadata": {
        "id": "tBoyjjWg0Ac9"
      },
      "outputs": [
        {
          "data": {
            "text/plain": [
              "array(['', '[UNK]', 'the', 'and', 'a', 'of', 'to', 'is', 'in', 'it', 'i',\n",
              "       'this', 'that', 'br', 'was', 'as', 'for', 'with', 'movie', 'but'],\n",
              "      dtype='<U14')"
            ]
          },
          "execution_count": 12,
          "metadata": {},
          "output_type": "execute_result"
        }
      ],
      "source": [
        "vocab = np.array(encoder.get_vocabulary())\n",
        "vocab[:20]"
      ]
    },
    {
      "cell_type": "markdown",
      "metadata": {
        "id": "mjId5pua3jHQ"
      },
      "source": [
        "Once the vocabulary is set, the layer can encode text into indices. The tensors of indices are 0-padded to the longest sequence in the batch (unless you set a fixed `output_sequence_length`):"
      ]
    },
    {
      "cell_type": "code",
      "execution_count": 13,
      "metadata": {
        "id": "RGc7C9WiwRWs"
      },
      "outputs": [
        {
          "data": {
            "text/plain": [
              "array([[ 11,   7,  22, ...,   0,   0,   0],\n",
              "       [ 11, 312, 204, ...,   0,   0,   0],\n",
              "       [252, 544,  38, ...,   0,   0,   0]])"
            ]
          },
          "execution_count": 13,
          "metadata": {},
          "output_type": "execute_result"
        }
      ],
      "source": [
        "encoded_example = encoder(example)[:3].numpy()\n",
        "encoded_example"
      ]
    },
    {
      "cell_type": "markdown",
      "metadata": {
        "id": "F5cjz0bS39IN"
      },
      "source": [
        "With the default settings, the process is not completely reversible. There are three main reasons for that:\n",
        "\n",
        "1. The default value for `preprocessing.TextVectorization`'s `standardize` argument is `\"lower_and_strip_punctuation\"`.\n",
        "2. The limited vocabulary size and lack of character-based fallback results in some unknown tokens."
      ]
    },
    {
      "cell_type": "code",
      "execution_count": 14,
      "metadata": {
        "id": "N_tD0QY5wXaK"
      },
      "outputs": [
        {
          "name": "stdout",
          "output_type": "stream",
          "text": [
            "Original:  b'This is not a profound movie; most of the plot aspects are pretty predictable and \"tried and true\" but it was well-acted and made some interesting points about what we might regret (our \"mistakes\" as the movie calls them) as we look back over our lives. I had not read the book, so didn\\'t know much other than it was the story of a dying woman who has strong memories from long ago that she hasn\\'t really shared with anyone. Thankfully they got a top-notch cast....Meryl<br /><br />Streep\\'s daughter, Mamie Gummer, plays the young Lila, and then Meryl shows up at the end of the film as the old Lila...in addition to an amazing resemblance (duh!) the younger actress did a great job (perhaps not quite up to her mom\\'s caliber, but who is?) All others in this film were fine, although I wish there had been more of Glen Close and thought the Buddy character was alittle too dramatic. <br /><br />This is more of a girls\\' movie than for the guys, but a good one to see with your mom, or your daughter, and maybe start some dialog going. How hard it is to really know a parent as a \"person\"!'\n",
            "Round-trip:  this is not a [UNK] movie most of the plot [UNK] are pretty predictable and tried and true but it was [UNK] and made some interesting points about what we might [UNK] our [UNK] as the movie [UNK] them as we look back over our lives i had not read the book so didnt know much other than it was the story of a [UNK] woman who has strong [UNK] from long ago that she [UNK] really [UNK] with anyone [UNK] they got a [UNK] [UNK] br [UNK] daughter [UNK] [UNK] plays the young [UNK] and then [UNK] shows up at the end of the film as the old [UNK] [UNK] to an amazing [UNK] [UNK] the [UNK] actress did a great job perhaps not quite up to her [UNK] [UNK] but who is all others in this film were fine although i wish there had been more of [UNK] close and thought the [UNK] character was [UNK] too dramatic br br this is more of a girls movie than for the guys but a good one to see with your [UNK] or your daughter and maybe start some dialog going how hard it is to really know a [UNK] as a person                                                                                                                                                                                                                                                                                                                                                                                                                                                                                                                                                                    \n",
            "\n",
            "Original:  b\"This excellent series, narrated by Laurence Olivier, brilliantly, it should be said, charts the beginning to the end of World War 2. The origins are not entirely examined fully from Germany's fall at the hands of the Versailles treaty which helped propel Hitler's demonic rise, but as one reviewer says, that must be hard to do, in a 26-part series with so much to cram in. <br /><br />Apart from the expected combat photography/action, there are plenty of personal, emotional and human tragedies that are told giving the viewer an amazing insight, especially if you're not necessarily a World War 2 buff/fan. Episodes showing 'testimonies' and what life was like on the home front of the main allies/adversary, Britain, Germany, Japan, Russia and the U.S.A. were quite eye-opening. Showing the extreme savagery of the war on the frontline and of course the sufferings of civilians, the death camps etc., were very well handled and exposed. I'd fully recommend this in any history class for the younger generation (Of which it could be said I am one at 47!).<br /><br />Certain things are quite strangely left out, like the advent of the new jet era beginning, with Frank Whittle's experimental Gloster jet and the Gloster Meteor's combat debut as well as that of the German Messerschmitt Me 262 - especially as the V-1 was seen making its debut and there was surprisingly smaller mention of the V2. This is probably a small oversight, not referring to the more sensational secret and fantastic weapons which WW2 brought forward from a more barren old science. But a great series that made its mark and has done so ever since when thankfully repeated. <br /><br />A series to own as a box set in history terms, on DVD for anyone especially who happens to be a military fan. Jeremy Isaacs and Thames TV should be well proud.\"\n",
            "Round-trip:  this excellent series [UNK] by [UNK] [UNK] [UNK] it should be said [UNK] the beginning to the end of world war 2 the [UNK] are not [UNK] [UNK] [UNK] from [UNK] fall at the hands of the [UNK] [UNK] which [UNK] [UNK] [UNK] [UNK] [UNK] but as one [UNK] says that must be hard to do in a [UNK] series with so much to [UNK] in br br apart from the expected [UNK] [UNK] there are plenty of personal emotional and human [UNK] that are told giving the viewer an amazing [UNK] especially if youre not [UNK] a world war 2 [UNK] episodes showing [UNK] and what life was like on the home [UNK] of the main [UNK] [UNK] [UNK] [UNK] [UNK] and the [UNK] were quite [UNK] showing the [UNK] [UNK] of the war on the [UNK] and of course the [UNK] of [UNK] the death [UNK] etc were very well [UNK] and [UNK] id [UNK] recommend this in any history class for the [UNK] [UNK] of which it could be said i am one at [UNK] br certain things are quite [UNK] left out like the [UNK] of the new [UNK] [UNK] beginning with [UNK] [UNK] [UNK] [UNK] [UNK] and the [UNK] [UNK] [UNK] [UNK] as well as that of the [UNK] [UNK] me [UNK] especially as the [UNK] was seen making its [UNK] and there was [UNK] [UNK] mention of the [UNK] this is probably a small [UNK] not [UNK] to the more [UNK] secret and fantastic [UNK] which [UNK] brought forward from a more [UNK] old [UNK] but a great series that made its mark and has done so ever since when [UNK] [UNK] br br a series to own as a [UNK] set in history [UNK] on dvd for anyone especially who happens to be a [UNK] fan [UNK] [UNK] and [UNK] tv should be well [UNK]                                                                                                                                                                                                                                                                                                                                                                                                                                                       \n",
            "\n",
            "Original:  b\"Having heard so many people raving about this film I thought I'd give it a go. Apart from being incredibly slow, which I don't mind as long as the wait is worth it, but it just isn't. As many others have said there are so many inconsistencies and so much of this film just doesn't ring true. The reaction of the 4 men switches from shock, horror on finding the body to complete indifference whilst they fish. Surely if they were the type of men that would go on happily fishing, then they would have just reported the body and said they had only discovered it after their fishing trip....why on earth tie the body to a tree, go fishing and then tell everyone you found the body 2 days previously? Its so hard to watch a film knowing that the behaviour of the main characters is so inconsistent. As for the rest of the townsfolk, well you'd think at least one of them might show some curiosity about who actually killed the woman! The body itself, naked except for the knickers....what scenario leads to that? If she was raped then why still the knickers? If she was raped with the clothes on, then why remove them afterwards bar the knickers? If she wasn't raped, then why take all her clothes off bar the knickers....leaving yourself with evidence to dispose of? I truly cant think of any realistic scenario that would lead to that other than killing someone to steal their clothes so you can fill up your jumble sale stall! Oh well its watchable but only just and only because, despite the poor script, the acting is strong.\"\n",
            "Round-trip:  having heard so many people [UNK] about this film i thought id give it a go apart from being incredibly slow which i dont mind as long as the wait is worth it but it just isnt as many others have said there are so many [UNK] and so much of this film just doesnt [UNK] true the [UNK] of the 4 men [UNK] from [UNK] horror on [UNK] the body to complete [UNK] [UNK] they [UNK] [UNK] if they were the type of men that would go on [UNK] [UNK] then they would have just [UNK] the body and said they had only [UNK] it after their [UNK] [UNK] on earth [UNK] the body to a [UNK] go [UNK] and then tell everyone you found the body 2 days [UNK] its so hard to watch a film [UNK] that the [UNK] of the main characters is so [UNK] as for the rest of the [UNK] well [UNK] think at least one of them might show some [UNK] about who actually killed the woman the body itself [UNK] except for the [UNK] [UNK] leads to that if she was [UNK] then why still the [UNK] if she was [UNK] with the [UNK] on then why [UNK] them [UNK] [UNK] the [UNK] if she wasnt [UNK] then why take all her [UNK] off [UNK] the [UNK] yourself with [UNK] to [UNK] of i truly cant think of any realistic [UNK] that would lead to that other than killing someone to [UNK] their [UNK] so you can [UNK] up your [UNK] [UNK] [UNK] oh well its [UNK] but only just and only because despite the poor script the acting is strong                                                                                                                                                                                                                                                                                                                                                                                                                                                                                        \n",
            "\n"
          ]
        }
      ],
      "source": [
        "for n in range(3):\n",
        "  print(\"Original: \", example[n].numpy())\n",
        "  print(\"Round-trip: \", \" \".join(vocab[encoded_example[n]]))\n",
        "  print()"
      ]
    },
    {
      "cell_type": "markdown",
      "metadata": {
        "id": "bjUqGVBxGw-t"
      },
      "source": [
        "## Create the model"
      ]
    },
    {
      "cell_type": "markdown",
      "metadata": {
        "id": "W7zsmInBOCPO"
      },
      "source": [
        "![A drawing of the information flow in the model](images/bidirectional.png)"
      ]
    },
    {
      "cell_type": "markdown",
      "metadata": {
        "id": "bgs6nnSTGw-t"
      },
      "source": [
        "Above is a diagram of the model. \n",
        "\n",
        "1. This model can be build as a `tf.keras.Sequential`.\n",
        "\n",
        "2. The first layer is the `encoder`, which converts the text to a sequence of token indices.\n",
        "\n",
        "3. After the encoder is an embedding layer. An embedding layer stores one vector per word. When called, it converts the sequences of word indices to sequences of vectors. These vectors are trainable. After training (on enough data), words with similar meanings often have similar vectors.\n",
        "\n",
        "  This index-lookup is much more efficient than the equivalent operation of passing a one-hot encoded vector through a `tf.keras.layers.Dense` layer.\n",
        "\n",
        "4. A recurrent neural network (RNN) processes sequence input by iterating through the elements. RNNs pass the outputs from one timestep to their input on the next timestep.\n",
        "\n",
        "  The `tf.keras.layers.Bidirectional` wrapper can also be used with an RNN layer. This propagates the input forward and backwards through the RNN layer and then concatenates the final output. \n",
        "\n",
        "  * The main advantage of a bidirectional RNN is that the signal from the beginning of the input doesn't need to be processed all the way through every timestep to affect the output.  \n",
        "\n",
        "  * The main disadvantage of a bidirectional RNN is that you can't efficiently stream predictions as words are being added to the end.\n",
        "\n",
        "5. After the RNN has converted the sequence to a single vector the two `layers.Dense` do some final processing, and convert from this vector representation to a single logit as the classification output. \n"
      ]
    },
    {
      "cell_type": "markdown",
      "metadata": {
        "id": "V4fodCI7soQi"
      },
      "source": [
        "The code to implement this is below:"
      ]
    },
    {
      "cell_type": "code",
      "execution_count": 15,
      "metadata": {
        "id": "LwfoBkmRYcP3"
      },
      "outputs": [],
      "source": [
        "model = tf.keras.Sequential([\n",
        "    encoder,\n",
        "    tf.keras.layers.Embedding(\n",
        "        input_dim=len(encoder.get_vocabulary()),\n",
        "        output_dim=64,\n",
        "        # Use masking to handle the variable sequence lengths\n",
        "        mask_zero=True),\n",
        "    tf.keras.layers.Bidirectional(tf.keras.layers.LSTM(64)),\n",
        "    tf.keras.layers.Dense(64, activation='relu'),\n",
        "    tf.keras.layers.Dense(1)\n",
        "])"
      ]
    },
    {
      "cell_type": "markdown",
      "metadata": {
        "id": "QIGmIGkkouUb"
      },
      "source": [
        "Please note that Keras sequential model is used here since all the layers in the model only have single input and produce single output. In case you want to use stateful RNN layer, you might want to build your model with Keras functional API or model subclassing so that you can retrieve and reuse the RNN layer states. Please check [Keras RNN guide](https://www.tensorflow.org/guide/keras/rnn#rnn_state_reuse) for more details."
      ]
    },
    {
      "cell_type": "markdown",
      "metadata": {
        "id": "kF-PsCk1LwjY"
      },
      "source": [
        "The embedding layer [uses masking](https://www.tensorflow.org/guide/keras/masking_and_padding) to handle the varying sequence-lengths. All the layers after the `Embedding` support masking:"
      ]
    },
    {
      "cell_type": "code",
      "execution_count": 16,
      "metadata": {
        "id": "87a8-CwfKebw"
      },
      "outputs": [
        {
          "name": "stdout",
          "output_type": "stream",
          "text": [
            "[False, True, True, True, True]\n"
          ]
        }
      ],
      "source": [
        "print([layer.supports_masking for layer in model.layers])"
      ]
    },
    {
      "cell_type": "markdown",
      "metadata": {
        "id": "ZlS0iaUIWLpI"
      },
      "source": [
        "To confirm that this works as expected, evaluate a sentence twice. First, alone so there's no padding to mask:"
      ]
    },
    {
      "cell_type": "code",
      "execution_count": 17,
      "metadata": {
        "id": "O41gw3KfWHus"
      },
      "outputs": [
        {
          "name": "stdout",
          "output_type": "stream",
          "text": [
            "1/1 [==============================] - 2s 2s/step\n",
            "[4.1944906e-05]\n"
          ]
        }
      ],
      "source": [
        "# predict on a sample text without padding.\n",
        "\n",
        "sample_text = ('The movie was cool. The animation and the graphics '\n",
        "               'were out of this world. I would recommend this movie.')\n",
        "predictions = model.predict(np.array([sample_text]))\n",
        "print(predictions[0])"
      ]
    },
    {
      "cell_type": "markdown",
      "metadata": {
        "id": "K0VQmGnEWcuz"
      },
      "source": [
        "Now, evaluate it again in a batch with a longer sentence. The result should be identical:"
      ]
    },
    {
      "cell_type": "code",
      "execution_count": 18,
      "metadata": {
        "id": "UIgpuTeFNDzq"
      },
      "outputs": [
        {
          "name": "stdout",
          "output_type": "stream",
          "text": [
            "1/1 [==============================] - 0s 230ms/step\n",
            "[4.194444e-05]\n"
          ]
        }
      ],
      "source": [
        "# predict on a sample text with padding\n",
        "\n",
        "padding = \"the \" * 2000\n",
        "predictions = model.predict(np.array([sample_text, padding]))\n",
        "print(predictions[0])"
      ]
    },
    {
      "cell_type": "markdown",
      "metadata": {
        "id": "sRI776ZcH3Tf"
      },
      "source": [
        "Compile the Keras model to configure the training process:"
      ]
    },
    {
      "cell_type": "code",
      "execution_count": 19,
      "metadata": {
        "id": "kj2xei41YZjC"
      },
      "outputs": [],
      "source": [
        "model.compile(loss=tf.keras.losses.BinaryCrossentropy(from_logits=True),\n",
        "              optimizer=tf.keras.optimizers.Adam(1e-4),\n",
        "              metrics=['accuracy'])"
      ]
    },
    {
      "cell_type": "markdown",
      "metadata": {
        "id": "zIwH3nto596k"
      },
      "source": [
        "## Train the model"
      ]
    },
    {
      "cell_type": "code",
      "execution_count": 21,
      "metadata": {
        "id": "hw86wWS4YgR2"
      },
      "outputs": [
        {
          "name": "stdout",
          "output_type": "stream",
          "text": [
            "Epoch 1/2\n",
            "391/391 [==============================] - 332s 848ms/step - loss: 0.6274 - accuracy: 0.5826 - val_loss: 0.5523 - val_accuracy: 0.6771\n",
            "Epoch 2/2\n"
          ]
        },
        {
          "name": "stderr",
          "output_type": "stream",
          "text": [
            "2023-03-15 10:13:41.718015: W tensorflow/core/kernels/data/cache_dataset_ops.cc:856] The calling iterator did not fully read the dataset being cached. In order to avoid unexpected truncation of the dataset, the partially cached contents of the dataset  will be discarded. This can happen if you have an input pipeline similar to `dataset.cache().take(k).repeat()`. You should use `dataset.take(k).cache().repeat()` instead.\n"
          ]
        },
        {
          "name": "stdout",
          "output_type": "stream",
          "text": [
            "391/391 [==============================] - 331s 847ms/step - loss: 0.4266 - accuracy: 0.8040 - val_loss: 0.4002 - val_accuracy: 0.8266\n"
          ]
        },
        {
          "name": "stderr",
          "output_type": "stream",
          "text": [
            "2023-03-15 10:19:12.932569: W tensorflow/core/kernels/data/cache_dataset_ops.cc:856] The calling iterator did not fully read the dataset being cached. In order to avoid unexpected truncation of the dataset, the partially cached contents of the dataset  will be discarded. This can happen if you have an input pipeline similar to `dataset.cache().take(k).repeat()`. You should use `dataset.take(k).cache().repeat()` instead.\n"
          ]
        }
      ],
      "source": [
        "history = model.fit(train_dataset, epochs=2,\n",
        "                    validation_data=test_dataset,\n",
        "                    validation_steps=30)"
      ]
    },
    {
      "cell_type": "code",
      "execution_count": 22,
      "metadata": {
        "id": "BaNbXi43YgUT"
      },
      "outputs": [
        {
          "name": "stdout",
          "output_type": "stream",
          "text": [
            "391/391 [==============================] - 76s 194ms/step - loss: 0.3876 - accuracy: 0.8364\n",
            "Test Loss: 0.3876156508922577\n",
            "Test Accuracy: 0.836359977722168\n"
          ]
        }
      ],
      "source": [
        "test_loss, test_acc = model.evaluate(test_dataset)\n",
        "\n",
        "print('Test Loss:', test_loss)\n",
        "print('Test Accuracy:', test_acc)"
      ]
    },
    {
      "cell_type": "code",
      "execution_count": 25,
      "metadata": {
        "id": "OZmwt_mzaQJk"
      },
      "outputs": [
        {
          "data": {
            "text/plain": [
              "(0.0, 0.6388086646795272)"
            ]
          },
          "execution_count": 25,
          "metadata": {},
          "output_type": "execute_result"
        },
        {
          "data": {
            "image/png": "[encoded data removed]",
            "text/plain": [
              "<Figure size 1600x800 with 2 Axes>"
            ]
          },
          "metadata": {},
          "output_type": "display_data"
        }
      ],
      "source": [
        "plt.figure(figsize=(16, 8))\n",
        "plt.subplot(1, 2, 1)\n",
        "plot_graphs(history, 'accuracy')\n",
        "plt.ylim(None, 1)\n",
        "plt.subplot(1, 2, 2)\n",
        "plot_graphs(history, 'loss')\n",
        "plt.ylim(0, None)"
      ]
    },
    {
      "cell_type": "markdown",
      "metadata": {
        "id": "DwSE_386uhxD"
      },
      "source": [
        "Run a prediction on a new sentence:\n",
        "\n",
        "If the prediction is >= 0.0, it is positive else it is negative."
      ]
    },
    {
      "cell_type": "code",
      "execution_count": 27,
      "metadata": {
        "id": "ZXgfQSgRW6zU"
      },
      "outputs": [
        {
          "name": "stdout",
          "output_type": "stream",
          "text": [
            "1/1 [==============================] - 0s 35ms/step\n",
            "[[0.42475235]]\n"
          ]
        }
      ],
      "source": [
        "sample_text = ('The movie was cool. The animation and the graphics '\n",
        "               'were out of this world. I would recommend this movie.')\n",
        "predictions = model.predict(np.array([sample_text]))\n",
        "\n",
        "print(predictions)"
      ]
    },
    {
      "cell_type": "markdown",
      "metadata": {
        "id": "7g1evcaRpTKm"
      },
      "source": [
        "## Stack two or more LSTM layers\n",
        "\n",
        "Keras recurrent layers have two available modes that are controlled by the `return_sequences` constructor argument:\n",
        "\n",
        "* If `False` it returns only the last output for each input sequence (a 2D tensor of shape (batch_size, output_features)). This is the default, used in the previous model.\n",
        "\n",
        "* If `True` the full sequences of successive outputs for each timestep is returned (a 3D tensor of shape `(batch_size, timesteps, output_features)`).\n",
        "\n",
        "Here is what the flow of information looks like with `return_sequences=True`:\n",
        "\n",
        "![layered_bidirectional](images/layered_bidirectional.png)"
      ]
    },
    {
      "cell_type": "markdown",
      "metadata": {
        "id": "wbSClCrG1z8l"
      },
      "source": [
        "The interesting thing about using an `RNN` with `return_sequences=True` is that the output still has 3-axes, like the input, so it can be passed to another RNN layer, like this:"
      ]
    },
    {
      "cell_type": "code",
      "execution_count": 34,
      "metadata": {
        "id": "jo1jjO3vn0jo"
      },
      "outputs": [],
      "source": [
        "model = tf.keras.Sequential([\n",
        "    encoder,\n",
        "    tf.keras.layers.Embedding(len(encoder.get_vocabulary()), 64, mask_zero=True),\n",
        "    tf.keras.layers.Bidirectional(tf.keras.layers.LSTM(64,  return_sequences=True)),\n",
        "    tf.keras.layers.Bidirectional(tf.keras.layers.LSTM(32)),\n",
        "    tf.keras.layers.Dense(64, activation='relu'),\n",
        "    tf.keras.layers.Dropout(0.5),\n",
        "    tf.keras.layers.Dense(1)\n",
        "])"
      ]
    },
    {
      "cell_type": "code",
      "execution_count": 35,
      "metadata": {
        "id": "hEPV5jVGp-is"
      },
      "outputs": [],
      "source": [
        "model.compile(loss=tf.keras.losses.BinaryCrossentropy(from_logits=True),\n",
        "              optimizer=tf.keras.optimizers.Adam(1e-4),\n",
        "              metrics=['accuracy'])"
      ]
    },
    {
      "cell_type": "code",
      "execution_count": 36,
      "metadata": {
        "id": "LeSE-YjdqAeN"
      },
      "outputs": [
        {
          "name": "stdout",
          "output_type": "stream",
          "text": [
            "Epoch 1/2\n",
            "391/391 [==============================] - 691s 2s/step - loss: 0.5881 - accuracy: 0.6328 - val_loss: 0.4184 - val_accuracy: 0.8125\n",
            "Epoch 2/2\n",
            "391/391 [==============================] - 684s 2s/step - loss: 0.3751 - accuracy: 0.8345 - val_loss: 0.3544 - val_accuracy: 0.8443\n"
          ]
        }
      ],
      "source": [
        "history = model.fit(train_dataset, epochs=2,\n",
        "                    validation_data=test_dataset,\n",
        "                    validation_steps=30)"
      ]
    },
    {
      "cell_type": "code",
      "execution_count": 37,
      "metadata": {
        "id": "_LdwilM1qPM3"
      },
      "outputs": [
        {
          "name": "stdout",
          "output_type": "stream",
          "text": [
            "391/391 [==============================] - 138s 352ms/step - loss: 0.3436 - accuracy: 0.8520\n",
            "Test Loss: 0.34361788630485535\n",
            "Test Accuracy: 0.8519600033760071\n"
          ]
        }
      ],
      "source": [
        "test_loss, test_acc = model.evaluate(test_dataset)\n",
        "\n",
        "print('Test Loss:', test_loss)\n",
        "print('Test Accuracy:', test_acc)"
      ]
    },
    {
      "cell_type": "code",
      "execution_count": 38,
      "metadata": {
        "id": "ykUKnAoqbycW"
      },
      "outputs": [
        {
          "name": "stdout",
          "output_type": "stream",
          "text": [
            "1/1 [==============================] - 4s 4s/step\n",
            "[[-0.76637083]]\n"
          ]
        }
      ],
      "source": [
        "# predict on a sample text without padding.\n",
        "\n",
        "sample_text = ('The movie was not good. The animation and the graphics '\n",
        "               'were terrible. I would not recommend this movie.')\n",
        "predictions = model.predict(np.array([sample_text]))\n",
        "print(predictions)"
      ]
    },
    {
      "cell_type": "code",
      "execution_count": 39,
      "metadata": {
        "id": "_YYub0EDtwCu"
      },
      "outputs": [
        {
          "data": {
            "image/png": "[encoded data removed]",
            "text/plain": [
              "<Figure size 1600x600 with 2 Axes>"
            ]
          },
          "metadata": {},
          "output_type": "display_data"
        }
      ],
      "source": [
        "plt.figure(figsize=(16, 6))\n",
        "plt.subplot(1, 2, 1)\n",
        "plot_graphs(history, 'accuracy')\n",
        "plt.subplot(1, 2, 2)\n",
        "plot_graphs(history, 'loss')"
      ]
    },
    {
      "cell_type": "markdown",
      "metadata": {
        "id": "9xvpE3BaGw_V"
      },
      "source": [
        "Check out other existing recurrent layers such as [GRU layers](https://www.tensorflow.org/api_docs/python/tf/keras/layers/GRU).\n",
        "\n",
        "If you're interested in building custom RNNs, see the [Keras RNN Guide](https://www.tensorflow.org/guide/keras/rnn).\n"
      ]
    }
  ],
  "metadata": {
    "accelerator": "GPU",
    "colab": {
      "collapsed_sections": [],
      "name": "text_classification_rnn.ipynb",
      "provenance": [],
      "toc_visible": true
    },
    "kernelspec": {
      "display_name": "Python 3",
      "language": "python",
      "name": "python3"
    },
    "language_info": {
      "codemirror_mode": {
        "name": "ipython",
        "version": 3
      },
      "file_extension": ".py",
      "mimetype": "text/x-python",
      "name": "python",
      "nbconvert_exporter": "python",
      "pygments_lexer": "ipython3",
      "version": "3.9.2"
    },
    "vscode": {
      "interpreter": {
        "hash": "767d51c1340bd893661ea55ea3124f6de3c7a262a8b4abca0554b478b1e2ff90"
      }
    }
  },
  "nbformat": 4,
  "nbformat_minor": 0
}
